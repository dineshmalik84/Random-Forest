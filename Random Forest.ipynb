{
 "cells": [
  {
   "cell_type": "code",
   "execution_count": 1,
   "id": "907f9766",
   "metadata": {},
   "outputs": [],
   "source": [
    "import numpy as np\n",
    "import pandas as pd\n",
    "from sklearn.ensemble import RandomForestClassifier"
   ]
  },
  {
   "cell_type": "code",
   "execution_count": 2,
   "id": "ec20f05a",
   "metadata": {},
   "outputs": [],
   "source": [
    "df = pd.read_csv('Banking Dataset.csv')"
   ]
  },
  {
   "cell_type": "code",
   "execution_count": 3,
   "id": "80538587",
   "metadata": {},
   "outputs": [
    {
     "data": {
      "text/html": [
       "<div>\n",
       "<style scoped>\n",
       "    .dataframe tbody tr th:only-of-type {\n",
       "        vertical-align: middle;\n",
       "    }\n",
       "\n",
       "    .dataframe tbody tr th {\n",
       "        vertical-align: top;\n",
       "    }\n",
       "\n",
       "    .dataframe thead th {\n",
       "        text-align: right;\n",
       "    }\n",
       "</style>\n",
       "<table border=\"1\" class=\"dataframe\">\n",
       "  <thead>\n",
       "    <tr style=\"text-align: right;\">\n",
       "      <th></th>\n",
       "      <th>Cust_ID</th>\n",
       "      <th>Target</th>\n",
       "      <th>Age</th>\n",
       "      <th>Gender</th>\n",
       "      <th>Balance</th>\n",
       "      <th>Occupation</th>\n",
       "      <th>No_OF_CR_TXNS</th>\n",
       "      <th>AGE_BKT</th>\n",
       "      <th>SCR</th>\n",
       "      <th>Holding_Period</th>\n",
       "    </tr>\n",
       "  </thead>\n",
       "  <tbody>\n",
       "    <tr>\n",
       "      <th>0</th>\n",
       "      <td>C1</td>\n",
       "      <td>0</td>\n",
       "      <td>30</td>\n",
       "      <td>M</td>\n",
       "      <td>160378.60</td>\n",
       "      <td>SAL</td>\n",
       "      <td>2</td>\n",
       "      <td>26-30</td>\n",
       "      <td>826</td>\n",
       "      <td>9</td>\n",
       "    </tr>\n",
       "    <tr>\n",
       "      <th>1</th>\n",
       "      <td>C10</td>\n",
       "      <td>1</td>\n",
       "      <td>41</td>\n",
       "      <td>M</td>\n",
       "      <td>84370.59</td>\n",
       "      <td>SELF-EMP</td>\n",
       "      <td>14</td>\n",
       "      <td>41-45</td>\n",
       "      <td>843</td>\n",
       "      <td>9</td>\n",
       "    </tr>\n",
       "    <tr>\n",
       "      <th>2</th>\n",
       "      <td>C100</td>\n",
       "      <td>0</td>\n",
       "      <td>49</td>\n",
       "      <td>F</td>\n",
       "      <td>60849.26</td>\n",
       "      <td>PROF</td>\n",
       "      <td>49</td>\n",
       "      <td>46-50</td>\n",
       "      <td>328</td>\n",
       "      <td>26</td>\n",
       "    </tr>\n",
       "    <tr>\n",
       "      <th>3</th>\n",
       "      <td>C1000</td>\n",
       "      <td>0</td>\n",
       "      <td>49</td>\n",
       "      <td>M</td>\n",
       "      <td>10558.81</td>\n",
       "      <td>SAL</td>\n",
       "      <td>23</td>\n",
       "      <td>46-50</td>\n",
       "      <td>619</td>\n",
       "      <td>19</td>\n",
       "    </tr>\n",
       "    <tr>\n",
       "      <th>4</th>\n",
       "      <td>C10000</td>\n",
       "      <td>0</td>\n",
       "      <td>43</td>\n",
       "      <td>M</td>\n",
       "      <td>97100.48</td>\n",
       "      <td>SENP</td>\n",
       "      <td>3</td>\n",
       "      <td>41-45</td>\n",
       "      <td>397</td>\n",
       "      <td>8</td>\n",
       "    </tr>\n",
       "  </tbody>\n",
       "</table>\n",
       "</div>"
      ],
      "text/plain": [
       "  Cust_ID  Target  Age Gender    Balance Occupation  No_OF_CR_TXNS AGE_BKT  \\\n",
       "0      C1       0   30      M  160378.60        SAL              2   26-30   \n",
       "1     C10       1   41      M   84370.59   SELF-EMP             14   41-45   \n",
       "2    C100       0   49      F   60849.26       PROF             49   46-50   \n",
       "3   C1000       0   49      M   10558.81        SAL             23   46-50   \n",
       "4  C10000       0   43      M   97100.48       SENP              3   41-45   \n",
       "\n",
       "   SCR  Holding_Period  \n",
       "0  826               9  \n",
       "1  843               9  \n",
       "2  328              26  \n",
       "3  619              19  \n",
       "4  397               8  "
      ]
     },
     "execution_count": 3,
     "metadata": {},
     "output_type": "execute_result"
    }
   ],
   "source": [
    "df.head()"
   ]
  },
  {
   "cell_type": "code",
   "execution_count": 4,
   "id": "22ac6c94",
   "metadata": {},
   "outputs": [
    {
     "name": "stdout",
     "output_type": "stream",
     "text": [
      "<class 'pandas.core.frame.DataFrame'>\n",
      "RangeIndex: 20000 entries, 0 to 19999\n",
      "Data columns (total 10 columns):\n",
      " #   Column          Non-Null Count  Dtype  \n",
      "---  ------          --------------  -----  \n",
      " 0   Cust_ID         20000 non-null  object \n",
      " 1   Target          20000 non-null  int64  \n",
      " 2   Age             20000 non-null  int64  \n",
      " 3   Gender          20000 non-null  object \n",
      " 4   Balance         20000 non-null  float64\n",
      " 5   Occupation      20000 non-null  object \n",
      " 6   No_OF_CR_TXNS   20000 non-null  int64  \n",
      " 7   AGE_BKT         20000 non-null  object \n",
      " 8   SCR             20000 non-null  int64  \n",
      " 9   Holding_Period  20000 non-null  int64  \n",
      "dtypes: float64(1), int64(5), object(4)\n",
      "memory usage: 1.5+ MB\n"
     ]
    }
   ],
   "source": [
    "df.info()"
   ]
  },
  {
   "cell_type": "code",
   "execution_count": 5,
   "id": "272187b5",
   "metadata": {},
   "outputs": [
    {
     "data": {
      "text/plain": [
       "(20000, 10)"
      ]
     },
     "execution_count": 5,
     "metadata": {},
     "output_type": "execute_result"
    }
   ],
   "source": [
    "df.shape"
   ]
  },
  {
   "cell_type": "code",
   "execution_count": 7,
   "id": "7a1037f2",
   "metadata": {},
   "outputs": [],
   "source": [
    "for i in df.columns:\n",
    "    if df[i].dtype == 'object':\n",
    "        df[i] = pd.Categorical(df[i]).codes"
   ]
  },
  {
   "cell_type": "code",
   "execution_count": 8,
   "id": "69394817",
   "metadata": {},
   "outputs": [
    {
     "name": "stdout",
     "output_type": "stream",
     "text": [
      "<class 'pandas.core.frame.DataFrame'>\n",
      "RangeIndex: 20000 entries, 0 to 19999\n",
      "Data columns (total 10 columns):\n",
      " #   Column          Non-Null Count  Dtype  \n",
      "---  ------          --------------  -----  \n",
      " 0   Cust_ID         20000 non-null  int16  \n",
      " 1   Target          20000 non-null  int64  \n",
      " 2   Age             20000 non-null  int64  \n",
      " 3   Gender          20000 non-null  int8   \n",
      " 4   Balance         20000 non-null  float64\n",
      " 5   Occupation      20000 non-null  int8   \n",
      " 6   No_OF_CR_TXNS   20000 non-null  int64  \n",
      " 7   AGE_BKT         20000 non-null  int8   \n",
      " 8   SCR             20000 non-null  int64  \n",
      " 9   Holding_Period  20000 non-null  int64  \n",
      "dtypes: float64(1), int16(1), int64(5), int8(3)\n",
      "memory usage: 1.0 MB\n"
     ]
    }
   ],
   "source": [
    "df.info()"
   ]
  },
  {
   "cell_type": "code",
   "execution_count": 9,
   "id": "71bb8a54",
   "metadata": {},
   "outputs": [],
   "source": [
    "X = df.drop(['Cust_ID','Target'], axis=1)\n",
    "y = df.pop('Target')"
   ]
  },
  {
   "cell_type": "code",
   "execution_count": 13,
   "id": "b9b09c0d",
   "metadata": {},
   "outputs": [],
   "source": [
    "from sklearn.model_selection import train_test_split"
   ]
  },
  {
   "cell_type": "code",
   "execution_count": 14,
   "id": "d83bba17",
   "metadata": {},
   "outputs": [],
   "source": [
    "X_train, X_test, y_train, y_test = train_test_split(X, y, test_size=0.30, random_state=1)"
   ]
  },
  {
   "cell_type": "code",
   "execution_count": 28,
   "id": "cc5a0a51",
   "metadata": {},
   "outputs": [],
   "source": [
    "rfc1 = RandomForestClassifier(n_estimators=501,\n",
    "                              oob_score=True,\n",
    "                              max_depth=10,\n",
    "                              min_samples_leaf=50,\n",
    "                              min_samples_split=150,\n",
    "                              max_features=5)"
   ]
  },
  {
   "cell_type": "code",
   "execution_count": 29,
   "id": "c1d06db4",
   "metadata": {},
   "outputs": [],
   "source": [
    "rfc1 = rfc1.fit(X_train, y_train)"
   ]
  },
  {
   "cell_type": "code",
   "execution_count": 30,
   "id": "a7e5e06e",
   "metadata": {},
   "outputs": [],
   "source": [
    "train_pred = rfc1.predict(X_train)\n",
    "test_pred = rfc1.predict(X_test)"
   ]
  },
  {
   "cell_type": "code",
   "execution_count": 31,
   "id": "f6a8adf6",
   "metadata": {},
   "outputs": [
    {
     "data": {
      "text/plain": [
       "True"
      ]
     },
     "execution_count": 31,
     "metadata": {},
     "output_type": "execute_result"
    }
   ],
   "source": [
    "rfc1.oob_score"
   ]
  },
  {
   "cell_type": "code",
   "execution_count": 32,
   "id": "fd73a159",
   "metadata": {},
   "outputs": [
    {
     "data": {
      "text/plain": [
       "0.9142857142857143"
      ]
     },
     "execution_count": 32,
     "metadata": {},
     "output_type": "execute_result"
    }
   ],
   "source": [
    "rfc1.oob_score_"
   ]
  },
  {
   "cell_type": "code",
   "execution_count": 33,
   "id": "102b4514",
   "metadata": {},
   "outputs": [],
   "source": [
    "from sklearn.model_selection import GridSearchCV"
   ]
  },
  {
   "cell_type": "code",
   "execution_count": 43,
   "id": "897f314a",
   "metadata": {},
   "outputs": [],
   "source": [
    "grid = {\n",
    "    'max_depth': [7, 10],\n",
    "    'max_features': [4, 6],\n",
    "    'min_samples_leaf': [50, 100],\n",
    "    'min_samples_split': [150, 300],\n",
    "    'n_estimators': [301, 501]\n",
    "}"
   ]
  },
  {
   "cell_type": "code",
   "execution_count": 44,
   "id": "fdc0b93b",
   "metadata": {},
   "outputs": [],
   "source": [
    "rfc1 = RandomForestClassifier()"
   ]
  },
  {
   "cell_type": "code",
   "execution_count": 45,
   "id": "484d921f",
   "metadata": {},
   "outputs": [],
   "source": [
    "gridsearch = GridSearchCV(estimator = rfc1, param_grid = grid, cv=3)"
   ]
  },
  {
   "cell_type": "code",
   "execution_count": 46,
   "id": "32af6d7d",
   "metadata": {},
   "outputs": [
    {
     "data": {
      "text/plain": [
       "GridSearchCV(cv=3, estimator=RandomForestClassifier(),\n",
       "             param_grid={'max_depth': [7, 10], 'max_features': [4, 6],\n",
       "                         'min_samples_leaf': [50, 100],\n",
       "                         'min_samples_split': [150, 300],\n",
       "                         'n_estimators': [301, 501]})"
      ]
     },
     "execution_count": 46,
     "metadata": {},
     "output_type": "execute_result"
    }
   ],
   "source": [
    "gridsearch.fit(X_train, y_train)"
   ]
  },
  {
   "cell_type": "code",
   "execution_count": 47,
   "id": "a84d5ab3",
   "metadata": {},
   "outputs": [
    {
     "data": {
      "text/plain": [
       "{'max_depth': 10,\n",
       " 'max_features': 6,\n",
       " 'min_samples_leaf': 50,\n",
       " 'min_samples_split': 150,\n",
       " 'n_estimators': 301}"
      ]
     },
     "execution_count": 47,
     "metadata": {},
     "output_type": "execute_result"
    }
   ],
   "source": [
    "gridsearch.best_params_"
   ]
  },
  {
   "cell_type": "code",
   "execution_count": 48,
   "id": "398016fb",
   "metadata": {},
   "outputs": [],
   "source": [
    "estimator = gridsearch.best_estimator_"
   ]
  },
  {
   "cell_type": "code",
   "execution_count": 49,
   "id": "399b8d30",
   "metadata": {},
   "outputs": [],
   "source": [
    "train_pred = estimator.predict(X_train)\n",
    "test_pred = estimator.predict(X_test)"
   ]
  },
  {
   "cell_type": "code",
   "execution_count": 57,
   "id": "bc438682",
   "metadata": {},
   "outputs": [],
   "source": [
    "from sklearn.metrics import classification_report, confusion_matrix, plot_roc_curve, plot_confusion_matrix\n",
    "import matplotlib.pyplot as plt"
   ]
  },
  {
   "cell_type": "code",
   "execution_count": 58,
   "id": "73d756d3",
   "metadata": {},
   "outputs": [
    {
     "data": {
      "image/png": "[encoded data removed]",
      "text/plain": [
       "<Figure size 432x288 with 1 Axes>"
      ]
     },
     "metadata": {
      "needs_background": "light"
     },
     "output_type": "display_data"
    }
   ],
   "source": [
    "plot_roc_curve(estimator = estimator, X=X_train, y=y_train)\n",
    "plt.title('ROC curve - training data')\n",
    "plt.grid()"
   ]
  },
  {
   "cell_type": "code",
   "execution_count": 59,
   "id": "d482996c",
   "metadata": {},
   "outputs": [
    {
     "data": {
      "image/png": "[encoded data removed]",
      "text/plain": [
       "<Figure size 432x288 with 1 Axes>"
      ]
     },
     "metadata": {
      "needs_background": "light"
     },
     "output_type": "display_data"
    }
   ],
   "source": [
    "plot_roc_curve(estimator = estimator, X=X_test, y=y_test)\n",
    "plt.title('ROC curve - testing data')\n",
    "plt.grid()"
   ]
  },
  {
   "cell_type": "code",
   "execution_count": 68,
   "id": "907e4a00",
   "metadata": {},
   "outputs": [
    {
     "data": {
      "text/plain": [
       "<sklearn.metrics._plot.confusion_matrix.ConfusionMatrixDisplay at 0x2a6126631f0>"
      ]
     },
     "execution_count": 68,
     "metadata": {},
     "output_type": "execute_result"
    },
    {
     "data": {
      "image/png": "[encoded data removed]",
      "text/plain": [
       "<Figure size 432x288 with 1 Axes>"
      ]
     },
     "metadata": {
      "needs_background": "light"
     },
     "output_type": "display_data"
    }
   ],
   "source": [
    "plot_confusion_matrix(estimator=estimator, X=X_train, y_true=y_train,colorbar=False)"
   ]
  },
  {
   "cell_type": "code",
   "execution_count": 62,
   "id": "6523de5d",
   "metadata": {},
   "outputs": [
    {
     "data": {
      "text/plain": [
       "<sklearn.metrics._plot.confusion_matrix.ConfusionMatrixDisplay at 0x2a61262e430>"
      ]
     },
     "execution_count": 62,
     "metadata": {},
     "output_type": "execute_result"
    },
    {
     "data": {
      "image/png": "[encoded data removed]",
      "text/plain": [
       "<Figure size 432x288 with 1 Axes>"
      ]
     },
     "metadata": {
      "needs_background": "light"
     },
     "output_type": "display_data"
    }
   ],
   "source": [
    "plot_confusion_matrix(estimator=estimator, X=X_test, y_true=y_test,colorbar=False)"
   ]
  },
  {
   "cell_type": "code",
   "execution_count": 69,
   "id": "5d1d145d",
   "metadata": {},
   "outputs": [
    {
     "name": "stdout",
     "output_type": "stream",
     "text": [
      "              precision    recall  f1-score   support\n",
      "\n",
      "           0       0.92      1.00      0.96     12782\n",
      "           1       0.70      0.06      0.11      1218\n",
      "\n",
      "    accuracy                           0.92     14000\n",
      "   macro avg       0.81      0.53      0.53     14000\n",
      "weighted avg       0.90      0.92      0.88     14000\n",
      "\n"
     ]
    }
   ],
   "source": [
    "print(classification_report(y_train,train_pred))"
   ]
  },
  {
   "cell_type": "code",
   "execution_count": 70,
   "id": "4d88bfd8",
   "metadata": {},
   "outputs": [
    {
     "name": "stdout",
     "output_type": "stream",
     "text": [
      "              precision    recall  f1-score   support\n",
      "\n",
      "           0       0.92      1.00      0.96      5485\n",
      "           1       0.70      0.05      0.09       515\n",
      "\n",
      "    accuracy                           0.92      6000\n",
      "   macro avg       0.81      0.52      0.53      6000\n",
      "weighted avg       0.90      0.92      0.88      6000\n",
      "\n"
     ]
    }
   ],
   "source": [
    "print(classification_report(y_test,test_pred))"
   ]
  },
  {
   "cell_type": "code",
   "execution_count": null,
   "id": "5252a8a2",
   "metadata": {},
   "outputs": [],
   "source": []
  }
 ],
 "metadata": {
  "kernelspec": {
   "display_name": "Python 3",
   "language": "python",
   "name": "python3"
  },
  "language_info": {
   "codemirror_mode": {
    "name": "ipython",
    "version": 3
   },
   "file_extension": ".py",
   "mimetype": "text/x-python",
   "name": "python",
   "nbconvert_exporter": "python",
   "pygments_lexer": "ipython3",
   "version": "3.8.8"
  }
 },
 "nbformat": 4,
 "nbformat_minor": 5
}
